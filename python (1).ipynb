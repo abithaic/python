{
  "nbformat": 4,
  "nbformat_minor": 0,
  "metadata": {
    "colab": {
      "provenance": []
    },
    "kernelspec": {
      "name": "python3",
      "display_name": "Python 3"
    },
    "language_info": {
      "name": "python"
    }
  },
  "cells": [
    {
      "cell_type": "code",
      "execution_count": null,
      "metadata": {
        "colab": {
          "base_uri": "https://localhost:8080/"
        },
        "id": "TFo8bATtzqH6",
        "outputId": "fcc1f5cd-ba98-4345-ecd4-8611dce3609a"
      },
      "outputs": [
        {
          "output_type": "stream",
          "name": "stdout",
          "text": [
            "['pant', 'shirt']\n"
          ]
        }
      ],
      "source": [
        "N=[\"pant\",\"shirt\"]\n",
        "print(N)"
      ]
    },
    {
      "cell_type": "code",
      "source": [
        "list1=[\"car\",\"cycle\",111]\n",
        "print(list1)"
      ],
      "metadata": {
        "colab": {
          "base_uri": "https://localhost:8080/"
        },
        "id": "RLrI8C740p4h",
        "outputId": "ab97df03-8d57-45e0-fd99-8bb518f7f209"
      },
      "execution_count": null,
      "outputs": [
        {
          "output_type": "stream",
          "name": "stdout",
          "text": [
            "['car', 'cycle', 111]\n"
          ]
        }
      ]
    },
    {
      "cell_type": "code",
      "source": [
        "print(\"c\")"
      ],
      "metadata": {
        "colab": {
          "base_uri": "https://localhost:8080/"
        },
        "id": "pUPM6cWI2wwM",
        "outputId": "6d967ae4-a3ed-4896-a552-7b0e3ff3a83e"
      },
      "execution_count": null,
      "outputs": [
        {
          "output_type": "stream",
          "name": "stdout",
          "text": [
            "c\n"
          ]
        }
      ]
    },
    {
      "cell_type": "code",
      "source": [
        "print(len(list1))"
      ],
      "metadata": {
        "colab": {
          "base_uri": "https://localhost:8080/"
        },
        "id": "LVZ2Iy3J3cph",
        "outputId": "3590a47c-0599-4d9e-882f-bf67d23009e9"
      },
      "execution_count": null,
      "outputs": [
        {
          "output_type": "stream",
          "name": "stdout",
          "text": [
            "3\n"
          ]
        }
      ]
    },
    {
      "cell_type": "code",
      "source": [
        "print(list1[0])"
      ],
      "metadata": {
        "colab": {
          "base_uri": "https://localhost:8080/"
        },
        "id": "Zh77S7Sd3m_K",
        "outputId": "88e73f3a-4a48-4e82-bab1-b7da510ff6d9"
      },
      "execution_count": null,
      "outputs": [
        {
          "output_type": "stream",
          "name": "stdout",
          "text": [
            "car\n"
          ]
        }
      ]
    },
    {
      "cell_type": "code",
      "source": [
        "print(list1[-2])"
      ],
      "metadata": {
        "colab": {
          "base_uri": "https://localhost:8080/"
        },
        "id": "u_pTbjEh5WF8",
        "outputId": "9d93f6ec-e6ae-4a18-876a-601f830873c8"
      },
      "execution_count": null,
      "outputs": [
        {
          "output_type": "stream",
          "name": "stdout",
          "text": [
            "cycle\n"
          ]
        }
      ]
    },
    {
      "cell_type": "code",
      "source": [
        "a=[1,2,3]\n",
        "b=[\"pin\",\"pen\",\"pencil\"]\n",
        "sum=a+b\n",
        "print(sum)"
      ],
      "metadata": {
        "colab": {
          "base_uri": "https://localhost:8080/"
        },
        "id": "j2dX3oOp5pPM",
        "outputId": "0cee57c3-1259-46eb-ca20-5e473149df0b"
      },
      "execution_count": null,
      "outputs": [
        {
          "output_type": "stream",
          "name": "stdout",
          "text": [
            "[1, 2, 3, 'pin', 'pen', 'pencil']\n"
          ]
        }
      ]
    },
    {
      "cell_type": "code",
      "source": [
        "a[0]=\"11\"\n",
        "print(a)"
      ],
      "metadata": {
        "colab": {
          "base_uri": "https://localhost:8080/"
        },
        "id": "b3zHEFTADg97",
        "outputId": "8d9e3cc2-f586-40d0-9f67-c0052d1d264a"
      },
      "execution_count": null,
      "outputs": [
        {
          "output_type": "stream",
          "name": "stdout",
          "text": [
            "['11', 2, 3]\n"
          ]
        }
      ]
    },
    {
      "cell_type": "code",
      "source": [
        "N.append(\"shall\")\n",
        "print(N)"
      ],
      "metadata": {
        "colab": {
          "base_uri": "https://localhost:8080/"
        },
        "id": "TbqB7mieFP_K",
        "outputId": "6f50b32e-f1ee-415b-c946-04ea39f9e23f"
      },
      "execution_count": null,
      "outputs": [
        {
          "output_type": "stream",
          "name": "stdout",
          "text": [
            "['pant', 'shirt', 'shall']\n"
          ]
        }
      ]
    },
    {
      "cell_type": "code",
      "source": [
        "N.append(\"top\")\n",
        "print(N)"
      ],
      "metadata": {
        "colab": {
          "base_uri": "https://localhost:8080/"
        },
        "id": "wVvvN2x_GsZe",
        "outputId": "2a9d71ef-042f-445a-8829-a9b51dd09d79"
      },
      "execution_count": null,
      "outputs": [
        {
          "output_type": "stream",
          "name": "stdout",
          "text": [
            "['pant', 'shirt', 'shall', 'top']\n"
          ]
        }
      ]
    },
    {
      "cell_type": "code",
      "source": [
        "N.insert(0,\"apple\")\n",
        "print(N)"
      ],
      "metadata": {
        "colab": {
          "base_uri": "https://localhost:8080/"
        },
        "id": "hm3a3vcnHD9v",
        "outputId": "d50957de-537c-4ac4-b17e-caec0fb091ce"
      },
      "execution_count": null,
      "outputs": [
        {
          "output_type": "stream",
          "name": "stdout",
          "text": [
            "['apple', 'pant', 'shirt', 'shall', 'top']\n"
          ]
        }
      ]
    },
    {
      "cell_type": "code",
      "source": [
        "a.insert(1,\"banana\")\n",
        "print(a)"
      ],
      "metadata": {
        "colab": {
          "base_uri": "https://localhost:8080/"
        },
        "id": "vhV7IQOfH5o2",
        "outputId": "cabd8644-9291-482d-a2c6-ba25b1065e9a"
      },
      "execution_count": null,
      "outputs": [
        {
          "output_type": "stream",
          "name": "stdout",
          "text": [
            "['11', 'banana', 2, 3]\n"
          ]
        }
      ]
    },
    {
      "cell_type": "code",
      "source": [
        "M=[\"sant\",\"land\"]\n",
        "print(M)\n",
        "M.insert()"
      ],
      "metadata": {
        "colab": {
          "base_uri": "https://localhost:8080/"
        },
        "id": "fLp9C6GzImEU",
        "outputId": "6e880871-9775-4e9c-d35a-09f471b222cb"
      },
      "execution_count": null,
      "outputs": [
        {
          "output_type": "stream",
          "name": "stdout",
          "text": [
            "['sant', 'land']\n"
          ]
        }
      ]
    },
    {
      "cell_type": "code",
      "source": [
        "N.extend(M)\n",
        "print(N)"
      ],
      "metadata": {
        "colab": {
          "base_uri": "https://localhost:8080/"
        },
        "id": "Gz5ybLluJbGc",
        "outputId": "fdd3d290-c7df-407b-a2f4-c0c063fbfcdb"
      },
      "execution_count": null,
      "outputs": [
        {
          "output_type": "stream",
          "name": "stdout",
          "text": [
            "['apple', 'pant', 'shirt', 'shall', 'top', 'sant', 'land']\n"
          ]
        }
      ]
    },
    {
      "cell_type": "code",
      "source": [
        "N.remove(\"pant\")\n",
        "print(N)\n",
        "\n",
        "\n"
      ],
      "metadata": {
        "colab": {
          "base_uri": "https://localhost:8080/"
        },
        "id": "lhs2hNgyJS90",
        "outputId": "03acae6c-5443-47ca-c015-b3e9200f493b"
      },
      "execution_count": null,
      "outputs": [
        {
          "output_type": "stream",
          "name": "stdout",
          "text": [
            "['apple', 'shirt', 'shall', 'top', 'sant', 'land']\n"
          ]
        }
      ]
    },
    {
      "cell_type": "code",
      "source": [
        "N.clear()\n",
        "print(N)\n",
        "\n",
        "\n"
      ],
      "metadata": {
        "colab": {
          "base_uri": "https://localhost:8080/"
        },
        "id": "tNBJB-ddLQrG",
        "outputId": "c7993820-d33b-4ebb-93ea-2316dc5dcccc"
      },
      "execution_count": null,
      "outputs": [
        {
          "output_type": "stream",
          "name": "stdout",
          "text": [
            "[]\n"
          ]
        }
      ]
    },
    {
      "cell_type": "code",
      "source": [
        "a.del()\n",
        "print(a)"
      ],
      "metadata": {
        "colab": {
          "base_uri": "https://localhost:8080/",
          "height": 110
        },
        "id": "pwgFBVPbL1hl",
        "outputId": "19b8aa0c-cfb7-4062-ded1-3206b9408d71"
      },
      "execution_count": null,
      "outputs": [
        {
          "output_type": "error",
          "ename": "SyntaxError",
          "evalue": "invalid syntax (<ipython-input-25-76affba57278>, line 1)",
          "traceback": [
            "\u001b[0;36m  File \u001b[0;32m\"<ipython-input-25-76affba57278>\"\u001b[0;36m, line \u001b[0;32m1\u001b[0m\n\u001b[0;31m    a.del()\u001b[0m\n\u001b[0m      ^\u001b[0m\n\u001b[0;31mSyntaxError\u001b[0m\u001b[0;31m:\u001b[0m invalid syntax\n"
          ]
        }
      ]
    },
    {
      "cell_type": "code",
      "source": [
        "T=(1,2,3)\n",
        "print(type(T))"
      ],
      "metadata": {
        "colab": {
          "base_uri": "https://localhost:8080/"
        },
        "id": "6pZgCkcmMV6l",
        "outputId": "3ea4fda6-693b-45f5-867e-6b7bcc69a62d"
      },
      "execution_count": null,
      "outputs": [
        {
          "output_type": "stream",
          "name": "stdout",
          "text": [
            "<class 'tuple'>\n"
          ]
        }
      ]
    },
    {
      "cell_type": "code",
      "source": [
        "print(type(M))"
      ],
      "metadata": {
        "colab": {
          "base_uri": "https://localhost:8080/"
        },
        "id": "Xt2Ao08sNdSF",
        "outputId": "b76afdc5-8ec4-42fc-9572-5d99c9aa778e"
      },
      "execution_count": null,
      "outputs": [
        {
          "output_type": "stream",
          "name": "stdout",
          "text": [
            "<class 'list'>\n"
          ]
        }
      ]
    },
    {
      "cell_type": "code",
      "source": [
        "P=(\"wen\",\"san\")\n",
        "print(P)"
      ],
      "metadata": {
        "colab": {
          "base_uri": "https://localhost:8080/"
        },
        "id": "718b3xRXOTBj",
        "outputId": "c59d0db9-d748-41bd-b465-45378f1dd756"
      },
      "execution_count": null,
      "outputs": [
        {
          "output_type": "stream",
          "name": "stdout",
          "text": [
            "('wen', 'san')\n"
          ]
        }
      ]
    },
    {
      "cell_type": "code",
      "source": [
        "sum=T+P\n",
        "print(sum)"
      ],
      "metadata": {
        "colab": {
          "base_uri": "https://localhost:8080/"
        },
        "id": "fK25dr-ROkrr",
        "outputId": "38146276-f00d-4458-a8fa-78aa0725081f"
      },
      "execution_count": null,
      "outputs": [
        {
          "output_type": "stream",
          "name": "stdout",
          "text": [
            "(1, 2, 3, 'wen', 'san')\n"
          ]
        }
      ]
    },
    {
      "cell_type": "code",
      "source": [
        "T.append(\"cat\")\n",
        "print(T)"
      ],
      "metadata": {
        "colab": {
          "base_uri": "https://localhost:8080/",
          "height": 164
        },
        "id": "cPKDXaf0O9p9",
        "outputId": "bf7646cb-4852-4127-bea5-829f9ab0ea88"
      },
      "execution_count": null,
      "outputs": [
        {
          "output_type": "error",
          "ename": "AttributeError",
          "evalue": "'tuple' object has no attribute 'append'",
          "traceback": [
            "\u001b[0;31m---------------------------------------------------------------------------\u001b[0m",
            "\u001b[0;31mAttributeError\u001b[0m                            Traceback (most recent call last)",
            "\u001b[0;32m<ipython-input-34-9db59e893313>\u001b[0m in \u001b[0;36m<cell line: 1>\u001b[0;34m()\u001b[0m\n\u001b[0;32m----> 1\u001b[0;31m \u001b[0mT\u001b[0m\u001b[0;34m.\u001b[0m\u001b[0mappend\u001b[0m\u001b[0;34m(\u001b[0m\u001b[0;34m\"cat\"\u001b[0m\u001b[0;34m)\u001b[0m\u001b[0;34m\u001b[0m\u001b[0;34m\u001b[0m\u001b[0m\n\u001b[0m\u001b[1;32m      2\u001b[0m \u001b[0mprint\u001b[0m\u001b[0;34m(\u001b[0m\u001b[0mT\u001b[0m\u001b[0;34m)\u001b[0m\u001b[0;34m\u001b[0m\u001b[0;34m\u001b[0m\u001b[0m\n",
            "\u001b[0;31mAttributeError\u001b[0m: 'tuple' object has no attribute 'append'"
          ]
        }
      ]
    },
    {
      "cell_type": "code",
      "source": [
        "set1={1,2,3,4,5,6,7,8,9}\n",
        "print(set1)"
      ],
      "metadata": {
        "colab": {
          "base_uri": "https://localhost:8080/"
        },
        "id": "xZ1PB6BoPeul",
        "outputId": "9e5e2ec9-a881-4558-c127-d7b2885ef0ec"
      },
      "execution_count": null,
      "outputs": [
        {
          "output_type": "stream",
          "name": "stdout",
          "text": [
            "{1, 2, 3, 4, 5, 6, 7, 8, 9}\n"
          ]
        }
      ]
    },
    {
      "cell_type": "code",
      "source": [
        "frt={\"mango\",\"apple\"}\n",
        "print(frt)"
      ],
      "metadata": {
        "colab": {
          "base_uri": "https://localhost:8080/"
        },
        "id": "IqZy55O-QLAy",
        "outputId": "34d65384-a85b-4e66-e747-2ae3d11c4d73"
      },
      "execution_count": null,
      "outputs": [
        {
          "output_type": "stream",
          "name": "stdout",
          "text": [
            "{'mango', 'apple'}\n"
          ]
        }
      ]
    },
    {
      "cell_type": "markdown",
      "source": [],
      "metadata": {
        "id": "nu3-RHnSrp5m"
      }
    },
    {
      "cell_type": "code",
      "source": [
        "print(frt[1])"
      ],
      "metadata": {
        "colab": {
          "base_uri": "https://localhost:8080/",
          "height": 146
        },
        "id": "NtRV13HkQwgp",
        "outputId": "5aff18bd-4c87-45a7-c969-1bd45033250b"
      },
      "execution_count": null,
      "outputs": [
        {
          "output_type": "error",
          "ename": "TypeError",
          "evalue": "'set' object is not subscriptable",
          "traceback": [
            "\u001b[0;31m---------------------------------------------------------------------------\u001b[0m",
            "\u001b[0;31mTypeError\u001b[0m                                 Traceback (most recent call last)",
            "\u001b[0;32m<ipython-input-40-9258e1f85962>\u001b[0m in \u001b[0;36m<cell line: 1>\u001b[0;34m()\u001b[0m\n\u001b[0;32m----> 1\u001b[0;31m \u001b[0mprint\u001b[0m\u001b[0;34m(\u001b[0m\u001b[0mfrt\u001b[0m\u001b[0;34m[\u001b[0m\u001b[0;36m1\u001b[0m\u001b[0;34m]\u001b[0m\u001b[0;34m)\u001b[0m\u001b[0;34m\u001b[0m\u001b[0;34m\u001b[0m\u001b[0m\n\u001b[0m",
            "\u001b[0;31mTypeError\u001b[0m: 'set' object is not subscriptable"
          ]
        }
      ]
    },
    {
      "cell_type": "code",
      "source": [
        "\n",
        "print(len(frt))"
      ],
      "metadata": {
        "colab": {
          "base_uri": "https://localhost:8080/"
        },
        "id": "jL3TfQBXRQcI",
        "outputId": "d4faede4-479b-4f0f-e872-34ef10cd18f1"
      },
      "execution_count": null,
      "outputs": [
        {
          "output_type": "stream",
          "name": "stdout",
          "text": [
            "2\n"
          ]
        }
      ]
    },
    {
      "cell_type": "code",
      "source": [
        "print('mango'in frt)"
      ],
      "metadata": {
        "colab": {
          "base_uri": "https://localhost:8080/"
        },
        "id": "XSDCpg6-S2uP",
        "outputId": "2578c18d-4548-4aa9-bd98-4fe05d5f9bc4"
      },
      "execution_count": null,
      "outputs": [
        {
          "output_type": "stream",
          "name": "stdout",
          "text": [
            "True\n"
          ]
        }
      ]
    },
    {
      "cell_type": "code",
      "source": [
        "frt.update([\"pant\",\"shirt\"])\n",
        "print(frt)"
      ],
      "metadata": {
        "colab": {
          "base_uri": "https://localhost:8080/"
        },
        "id": "a1Dzy_D4UIiX",
        "outputId": "dcac6beb-c60a-4048-964e-79121b534c3f"
      },
      "execution_count": null,
      "outputs": [
        {
          "output_type": "stream",
          "name": "stdout",
          "text": [
            "{'mango', 'pant', 'apple', 'shirt'}\n"
          ]
        }
      ]
    },
    {
      "cell_type": "code",
      "source": [],
      "metadata": {
        "id": "lSkIvNOsTxZ3"
      },
      "execution_count": null,
      "outputs": []
    },
    {
      "cell_type": "code",
      "source": [
        "a=int(input(\"enter first no:\"))\n",
        "b=int(input(\"enter second no:\"))\n",
        "addition=(a+b)\n",
        "print( \"addition is :\",addition)"
      ],
      "metadata": {
        "colab": {
          "base_uri": "https://localhost:8080/"
        },
        "id": "HYYVWF6Crrsf",
        "outputId": "138babfa-735d-4a05-d673-f3a23f52beac"
      },
      "execution_count": null,
      "outputs": [
        {
          "output_type": "stream",
          "name": "stdout",
          "text": [
            "enter first no:5\n",
            "enter second no:6\n",
            "addition is : 11\n"
          ]
        }
      ]
    },
    {
      "cell_type": "code",
      "source": [
        "C=int(input(\"enter your first no:\"))\n",
        "D=int(input(\"enter your second no\"))\n",
        "division=(C/D)\n",
        "print(\"division is :\",division)"
      ],
      "metadata": {
        "colab": {
          "base_uri": "https://localhost:8080/"
        },
        "id": "_XYhs4khtJ09",
        "outputId": "266ca3a1-c9d8-42d7-b0b0-484096a1a778"
      },
      "execution_count": null,
      "outputs": [
        {
          "output_type": "stream",
          "name": "stdout",
          "text": [
            "enter your first no:3\n",
            "enter your second no2\n",
            "division is : 1.5\n"
          ]
        }
      ]
    },
    {
      "cell_type": "code",
      "source": [
        "C=int(input(\"enter your first no:\"))\n",
        "D=int(input(\"enter your second no\"))\n",
        "multiplication=(C*D)\n",
        "print(multiplication)"
      ],
      "metadata": {
        "colab": {
          "base_uri": "https://localhost:8080/"
        },
        "id": "u7Eg5I7BwroE",
        "outputId": "462fba1c-ac04-42d4-a663-dd58149b6269"
      },
      "execution_count": null,
      "outputs": [
        {
          "output_type": "stream",
          "name": "stdout",
          "text": [
            "enter your first no:5\n",
            "enter your second no5\n",
            "25\n"
          ]
        }
      ]
    },
    {
      "cell_type": "code",
      "source": [
        "q=int(input(\"enter your first no:\"))\n",
        "w=int(input(\"enter your second no\"))\n",
        "e=(q-w)\n",
        "print(\"substration:\",e)"
      ],
      "metadata": {
        "colab": {
          "base_uri": "https://localhost:8080/"
        },
        "id": "wln8RDKPxTxQ",
        "outputId": "0818d9c1-b818-411d-dfec-2d3d2b8381e6"
      },
      "execution_count": null,
      "outputs": [
        {
          "output_type": "stream",
          "name": "stdout",
          "text": [
            "enter your first no:4\n",
            "enter your second no6\n",
            "substration: -2\n"
          ]
        }
      ]
    },
    {
      "cell_type": "code",
      "source": [
        "k=input(\"enter name:\")\n",
        "print(\"hi\",k)"
      ],
      "metadata": {
        "colab": {
          "base_uri": "https://localhost:8080/"
        },
        "id": "BtlL3X0WzhK5",
        "outputId": "a02c2ea9-2c0b-4a32-976f-536be02ae996"
      },
      "execution_count": null,
      "outputs": [
        {
          "output_type": "stream",
          "name": "stdout",
          "text": [
            "enter name:abitha\n",
            "hi abitha\n"
          ]
        }
      ]
    },
    {
      "cell_type": "code",
      "source": [
        "set2={\"man\",\"tab\"}\n",
        "print(set2)\n"
      ],
      "metadata": {
        "colab": {
          "base_uri": "https://localhost:8080/"
        },
        "id": "BjM7qzzTp9Lq",
        "outputId": "e3f058d0-8d39-4b43-97aa-944d4a01754b"
      },
      "execution_count": 2,
      "outputs": [
        {
          "output_type": "stream",
          "name": "stdout",
          "text": [
            "{'man', 'tab'}\n"
          ]
        }
      ]
    },
    {
      "cell_type": "code",
      "source": [
        "set2.remove(\"man\")\n",
        "print(set2)"
      ],
      "metadata": {
        "id": "rmdYsWXR0I76",
        "colab": {
          "base_uri": "https://localhost:8080/"
        },
        "outputId": "434b5f19-e06a-44f2-a5ad-adf4d9252401"
      },
      "execution_count": 3,
      "outputs": [
        {
          "output_type": "stream",
          "name": "stdout",
          "text": [
            "{'tab'}\n"
          ]
        }
      ]
    },
    {
      "cell_type": "code",
      "source": [
        "set2.discard(\"man\")\n",
        "print(set2)"
      ],
      "metadata": {
        "colab": {
          "base_uri": "https://localhost:8080/"
        },
        "id": "es00opULqr_z",
        "outputId": "a36a50a4-634f-4ff5-9788-631adec1409d"
      },
      "execution_count": 4,
      "outputs": [
        {
          "output_type": "stream",
          "name": "stdout",
          "text": [
            "{'tab'}\n"
          ]
        }
      ]
    },
    {
      "cell_type": "code",
      "source": [
        "set3={1,2,3,4,5,}\n",
        "print(set3)"
      ],
      "metadata": {
        "colab": {
          "base_uri": "https://localhost:8080/"
        },
        "id": "ALuD3tJnrKZE",
        "outputId": "2646ac0c-9c35-4f7c-f13e-12a55d58f1be"
      },
      "execution_count": 8,
      "outputs": [
        {
          "output_type": "stream",
          "name": "stdout",
          "text": [
            "{1, 2, 3, 4, 5}\n"
          ]
        }
      ]
    },
    {
      "cell_type": "code",
      "source": [
        "set4={7,8,9}\n",
        "print(set4)"
      ],
      "metadata": {
        "colab": {
          "base_uri": "https://localhost:8080/"
        },
        "id": "DWRloRMSr0j3",
        "outputId": "7bff8a4a-26de-477b-f9f8-c0809ec7422b"
      },
      "execution_count": 9,
      "outputs": [
        {
          "output_type": "stream",
          "name": "stdout",
          "text": [
            "{8, 9, 7}\n"
          ]
        }
      ]
    },
    {
      "cell_type": "code",
      "source": [
        "set3={1,2,3,4,5}\n",
        "set4={7,8,9}\n",
        "set5=set3.union(set4)\n",
        "print(set5)"
      ],
      "metadata": {
        "colab": {
          "base_uri": "https://localhost:8080/"
        },
        "id": "1dFQrLKcr7f7",
        "outputId": "b5349065-a85e-4dd1-efdf-a853a6276740"
      },
      "execution_count": 10,
      "outputs": [
        {
          "output_type": "stream",
          "name": "stdout",
          "text": [
            "{1, 2, 3, 4, 5, 7, 8, 9}\n"
          ]
        }
      ]
    },
    {
      "cell_type": "code",
      "source": [
        "a={3,4,5}\n",
        "b={5,7,8}\n",
        "c=a-b\n",
        "print(c)"
      ],
      "metadata": {
        "colab": {
          "base_uri": "https://localhost:8080/"
        },
        "id": "ooBoITk8sysV",
        "outputId": "a381510c-4bbf-4e0d-837c-be80b39223cf"
      },
      "execution_count": 11,
      "outputs": [
        {
          "output_type": "stream",
          "name": "stdout",
          "text": [
            "{3, 4}\n"
          ]
        }
      ]
    },
    {
      "cell_type": "code",
      "source": [
        "c=b-a\n",
        "print(c)\n"
      ],
      "metadata": {
        "colab": {
          "base_uri": "https://localhost:8080/"
        },
        "id": "AjI3ob6-tutY",
        "outputId": "14afe5d4-d96b-45d5-e383-fa799d678f18"
      },
      "execution_count": 12,
      "outputs": [
        {
          "output_type": "stream",
          "name": "stdout",
          "text": [
            "{8, 7}\n"
          ]
        }
      ]
    },
    {
      "cell_type": "code",
      "source": [
        "set3={1,2,3,4,5}\n",
        "set4={7,8,9}\n"
      ],
      "metadata": {
        "id": "BJ27oGhDv_eU"
      },
      "execution_count": null,
      "outputs": []
    },
    {
      "cell_type": "code",
      "source": [
        "d={9,7,6}\n",
        "f={6,5,4}\n",
        "s=d&f\n",
        "print(s)"
      ],
      "metadata": {
        "colab": {
          "base_uri": "https://localhost:8080/"
        },
        "id": "YW0TlWKwuUrm",
        "outputId": "95827bf2-d7ea-4b0d-d150-680a438ad1d2"
      },
      "execution_count": 14,
      "outputs": [
        {
          "output_type": "stream",
          "name": "stdout",
          "text": [
            "{6}\n"
          ]
        }
      ]
    },
    {
      "cell_type": "code",
      "source": [
        "d.clear()\n",
        "print(d)"
      ],
      "metadata": {
        "colab": {
          "base_uri": "https://localhost:8080/"
        },
        "id": "K6qwL2fAuvNl",
        "outputId": "3d778c6d-9bdb-4c5c-e5e3-a0a8efe66e2c"
      },
      "execution_count": 17,
      "outputs": [
        {
          "output_type": "stream",
          "name": "stdout",
          "text": [
            "set()\n"
          ]
        }
      ]
    },
    {
      "cell_type": "code",
      "source": [
        "a={2,3,4,5,6}\n",
        "b={7,7,8,9,1}\n",
        "a.add(8)\n",
        "print(a)"
      ],
      "metadata": {
        "colab": {
          "base_uri": "https://localhost:8080/"
        },
        "id": "Tf5Eww2Fycta",
        "outputId": "b8443204-baab-4e00-8932-575aab16cbcf"
      },
      "execution_count": 21,
      "outputs": [
        {
          "output_type": "stream",
          "name": "stdout",
          "text": [
            "{2, 3, 4, 5, 6, 8}\n"
          ]
        }
      ]
    },
    {
      "cell_type": "code",
      "source": [
        "a.update([24,33,4,5,66])\n",
        "print(a)"
      ],
      "metadata": {
        "colab": {
          "base_uri": "https://localhost:8080/"
        },
        "id": "0tETUbVv0wm2",
        "outputId": "28d683b7-d3d3-4656-b2c9-06165f1fcf76"
      },
      "execution_count": 22,
      "outputs": [
        {
          "output_type": "stream",
          "name": "stdout",
          "text": [
            "{2, 3, 4, 5, 6, 66, 8, 24, 33}\n"
          ]
        }
      ]
    },
    {
      "cell_type": "code",
      "source": [
        "dic1={\"name\":\"manu\",\"email\":\"manu@gmail.com\",\"phone\":809864}\n",
        "print(dic1)"
      ],
      "metadata": {
        "colab": {
          "base_uri": "https://localhost:8080/"
        },
        "id": "fgBvFlXs1Qpi",
        "outputId": "d4a1c710-eb3f-4580-d8ec-dd90b63466d7"
      },
      "execution_count": 26,
      "outputs": [
        {
          "output_type": "stream",
          "name": "stdout",
          "text": [
            "{'name': 'manu', 'email': 'manu@gmail.com', 'phone': 809864}\n"
          ]
        }
      ]
    },
    {
      "cell_type": "code",
      "source": [
        "dic1[\"phone\"]=876545\n",
        "print(dic1)"
      ],
      "metadata": {
        "colab": {
          "base_uri": "https://localhost:8080/"
        },
        "id": "79-742Db3U92",
        "outputId": "920175be-b390-43b8-aee6-7709a3d77d33"
      },
      "execution_count": 27,
      "outputs": [
        {
          "output_type": "stream",
          "name": "stdout",
          "text": [
            "{'name': 'manu', 'email': 'manu@gmail.com', 'phone': 876545}\n"
          ]
        }
      ]
    },
    {
      "cell_type": "code",
      "source": [
        "dic1[\"age\"]=23\n",
        "print(dic1)"
      ],
      "metadata": {
        "colab": {
          "base_uri": "https://localhost:8080/"
        },
        "id": "iAFix4xe5DB5",
        "outputId": "81e8b42b-7848-4a74-b43c-1d476d80e7bb"
      },
      "execution_count": 28,
      "outputs": [
        {
          "output_type": "stream",
          "name": "stdout",
          "text": [
            "{'name': 'manu', 'email': 'manu@gmail.com', 'phone': 876545, 'age': 23}\n"
          ]
        }
      ]
    },
    {
      "cell_type": "code",
      "source": [
        "d1=dic1.copy()\n",
        "print(d1)"
      ],
      "metadata": {
        "colab": {
          "base_uri": "https://localhost:8080/"
        },
        "id": "FWmBQGmS5ikt",
        "outputId": "8cf428b0-d2e3-419b-df22-588c812c0d4a"
      },
      "execution_count": 29,
      "outputs": [
        {
          "output_type": "stream",
          "name": "stdout",
          "text": [
            "{'name': 'manu', 'email': 'manu@gmail.com', 'phone': 876545, 'age': 23}\n"
          ]
        }
      ]
    },
    {
      "cell_type": "code",
      "source": [
        "dic1.pop(\"phone\")\n",
        "print(dic1)"
      ],
      "metadata": {
        "colab": {
          "base_uri": "https://localhost:8080/"
        },
        "id": "ivEEq8to6Kfh",
        "outputId": "cb25a49b-2e63-4e6c-dba2-b3024f2f02c3"
      },
      "execution_count": 31,
      "outputs": [
        {
          "output_type": "stream",
          "name": "stdout",
          "text": [
            "{'name': 'manu', 'email': 'manu@gmail.com', 'age': 23}\n"
          ]
        }
      ]
    },
    {
      "cell_type": "code",
      "source": [
        "del dic1[\"name\"]\n",
        "print(dic1)"
      ],
      "metadata": {
        "colab": {
          "base_uri": "https://localhost:8080/"
        },
        "id": "tThy7NZ-67Nr",
        "outputId": "f13e77ab-1897-461b-dfe6-fa92973cb2c1"
      },
      "execution_count": 33,
      "outputs": [
        {
          "output_type": "stream",
          "name": "stdout",
          "text": [
            "{'email': 'manu@gmail.com', 'age': 23}\n"
          ]
        }
      ]
    },
    {
      "cell_type": "code",
      "source": [
        "string=\"plant\",\"animal\",\"cat\",\"rat\"\n",
        "print(string)"
      ],
      "metadata": {
        "colab": {
          "base_uri": "https://localhost:8080/"
        },
        "id": "6bEF-qEU7SEP",
        "outputId": "de78b956-a030-4121-9c8c-9ba440a9f62f"
      },
      "execution_count": 38,
      "outputs": [
        {
          "output_type": "stream",
          "name": "stdout",
          "text": [
            "('plant', 'animal', 'cat', 'rat')\n"
          ]
        }
      ]
    },
    {
      "cell_type": "code",
      "source": [
        "print(string[1:3])\n"
      ],
      "metadata": {
        "colab": {
          "base_uri": "https://localhost:8080/"
        },
        "id": "gKpdH-eM83E6",
        "outputId": "d73cc5a3-5b4c-476d-c28e-21e0628f04d3"
      },
      "execution_count": 40,
      "outputs": [
        {
          "output_type": "stream",
          "name": "stdout",
          "text": [
            "('animal', 'cat')\n"
          ]
        }
      ]
    },
    {
      "cell_type": "code",
      "source": [
        "a=\"         hi       \"\n",
        "print(a)"
      ],
      "metadata": {
        "colab": {
          "base_uri": "https://localhost:8080/"
        },
        "id": "sDleodBd9i5Q",
        "outputId": "5814b9a7-80d3-4455-c4a9-ad0e5035d788"
      },
      "execution_count": 42,
      "outputs": [
        {
          "output_type": "stream",
          "name": "stdout",
          "text": [
            "         hi       \n"
          ]
        }
      ]
    },
    {
      "cell_type": "code",
      "source": [
        "print(a.strip())\n"
      ],
      "metadata": {
        "colab": {
          "base_uri": "https://localhost:8080/"
        },
        "id": "U7Cg51Vm_jS0",
        "outputId": "66e9d594-cb1d-41ff-c9dc-f7d6ce336cad"
      },
      "execution_count": 43,
      "outputs": [
        {
          "output_type": "stream",
          "name": "stdout",
          "text": [
            "hi\n"
          ]
        }
      ]
    },
    {
      "cell_type": "code",
      "source": [
        "A=\"BANANA\"\n",
        "print(A.lower())"
      ],
      "metadata": {
        "colab": {
          "base_uri": "https://localhost:8080/"
        },
        "id": "LKyuzoGKADqZ",
        "outputId": "c5aecf2a-9a10-40bf-e4b1-77cf02d1421e"
      },
      "execution_count": 47,
      "outputs": [
        {
          "output_type": "stream",
          "name": "stdout",
          "text": [
            "banana\n"
          ]
        }
      ]
    },
    {
      "cell_type": "code",
      "source": [
        "b=\"mango\"\n",
        "print(b.upper())"
      ],
      "metadata": {
        "colab": {
          "base_uri": "https://localhost:8080/"
        },
        "id": "amG2jpPeAalP",
        "outputId": "9a00a98a-e4d3-4de1-b76c-cb36b40b93b6"
      },
      "execution_count": 48,
      "outputs": [
        {
          "output_type": "stream",
          "name": "stdout",
          "text": [
            "MANGO\n"
          ]
        }
      ]
    },
    {
      "cell_type": "code",
      "source": [
        "s=\"MaNAGer\"\n",
        "print(s.swapcase())"
      ],
      "metadata": {
        "colab": {
          "base_uri": "https://localhost:8080/"
        },
        "id": "P1ksWqLbAyu-",
        "outputId": "9489840c-d915-4e04-b0bf-f60857980b61"
      },
      "execution_count": 51,
      "outputs": [
        {
          "output_type": "stream",
          "name": "stdout",
          "text": [
            "mAnagER\n"
          ]
        }
      ]
    },
    {
      "cell_type": "code",
      "source": [
        "m=\"Run\"\n",
        "print(m.replace(\"R\",\"S\"))"
      ],
      "metadata": {
        "colab": {
          "base_uri": "https://localhost:8080/"
        },
        "id": "Il18Ms3YHLWj",
        "outputId": "02710a28-b9b6-4cc0-f0bf-b64d91566077"
      },
      "execution_count": 53,
      "outputs": [
        {
          "output_type": "stream",
          "name": "stdout",
          "text": [
            "Sun\n"
          ]
        }
      ]
    },
    {
      "cell_type": "code",
      "source": [
        "s=\"hlo mam\"\n",
        "result=s.startswith(\"mam\")\n",
        "print(result)"
      ],
      "metadata": {
        "colab": {
          "base_uri": "https://localhost:8080/"
        },
        "id": "D6voCiRVH3f9",
        "outputId": "05b2296a-7f58-4d7e-cd36-2292c51b0024"
      },
      "execution_count": 59,
      "outputs": [
        {
          "output_type": "stream",
          "name": "stdout",
          "text": [
            "False\n"
          ]
        }
      ]
    },
    {
      "cell_type": "code",
      "source": [
        "result=s.endswith(\"mam\")\n",
        "print(result)"
      ],
      "metadata": {
        "colab": {
          "base_uri": "https://localhost:8080/"
        },
        "id": "tlOTKBI2JNLk",
        "outputId": "eb218667-8daf-44a9-eb81-213b8671d664"
      },
      "execution_count": 60,
      "outputs": [
        {
          "output_type": "stream",
          "name": "stdout",
          "text": [
            "True\n"
          ]
        }
      ]
    },
    {
      "cell_type": "code",
      "source": [
        "dict1={\"name\":\"ami\",\"age\":\"20\"}\n",
        "print(dict1)"
      ],
      "metadata": {
        "colab": {
          "base_uri": "https://localhost:8080/"
        },
        "id": "o-hOLh_vKx6M",
        "outputId": "e9f59cc4-d8eb-46e5-e222-1530c36e6828"
      },
      "execution_count": 61,
      "outputs": [
        {
          "output_type": "stream",
          "name": "stdout",
          "text": [
            "{'name': 'ami', 'age': '20'}\n"
          ]
        }
      ]
    },
    {
      "cell_type": "code",
      "source": [
        "a=dict1[]"
      ],
      "metadata": {
        "id": "EQD7mhi-L4Yn"
      },
      "execution_count": null,
      "outputs": []
    }
  ]
}